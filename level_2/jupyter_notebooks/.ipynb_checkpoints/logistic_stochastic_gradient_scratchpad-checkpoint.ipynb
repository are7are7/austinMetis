{
 "cells": [
  {
   "cell_type": "markdown",
   "metadata": {},
   "source": [
    "# 2d logistic regression scratchpad "
   ]
  },
  {
   "cell_type": "code",
   "execution_count": 1,
   "metadata": {
    "collapsed": true
   },
   "outputs": [],
   "source": [
    "import numpy as np\n",
    "import sys\n",
    "import matplotlib.pyplot as plt\n",
    "import pandas as pd\n",
    "sys.path.append('../utils')            # append our utility names\n",
    "%matplotlib inline"
   ]
  },
  {
   "cell_type": "code",
   "execution_count": 20,
   "metadata": {
    "collapsed": false
   },
   "outputs": [],
   "source": [
    "# load in the data and labels\n",
    "data = np.asarray(pd.read_csv('../datasets/face_data.csv'))\n",
    "x = data[:,:-1]\n",
    "y = data[:,-1]"
   ]
  },
  {
   "cell_type": "markdown",
   "metadata": {},
   "source": [
    "# logistic regression functionality\n",
    "\n",
    "TODO: put in your logistic regression functionality below and run it on the above dataset!  Then plot the resulting boundary using the Python cell in the next section."
   ]
  },
  {
   "cell_type": "code",
   "execution_count": 22,
   "metadata": {
    "collapsed": true
   },
   "outputs": [],
   "source": [
    "def compute_cost_val(x,y,w):\n",
    "    P = len(y)\n",
    "    cost = 0\n",
    "    for p in range(P):\n",
    "        x_p = list(x[p])\n",
    "        x_p.insert(0,1)\n",
    "        x_p = np.array(x_p)\n",
    "        x_p.shape = (len(x_p),1)\n",
    "        \n",
    "        y_p = y[p]\n",
    "        cost += np.log(1 + np.exp(-y_p*np.dot(x_p.T,w)))\n",
    "    return cost[0]"
   ]
  },
  {
   "cell_type": "code",
   "execution_count": 23,
   "metadata": {
    "collapsed": true
   },
   "outputs": [],
   "source": [
    "# function for computing the logistic regression cost gradient\n",
    "def compute_gradient(x,y,w):\n",
    "    # produce gradient for each class weights\n",
    "    P = len(y)\n",
    "    grad = 0\n",
    "    for p in range(P):\n",
    "        x_p = list(x[p])\n",
    "        x_p.insert(0,1)\n",
    "        x_p = np.array(x_p)\n",
    "        x_p.shape = (len(x_p),1)\n",
    "        \n",
    "        y_p = y[p]\n",
    "        grad+= -1/(1 + np.exp(y_p*np.dot(x_p.T,w)))*y_p*x_p\n",
    "    \n",
    "    grad.shape = (len(grad),1)\n",
    "    return grad"
   ]
  },
  {
   "cell_type": "code",
   "execution_count": 24,
   "metadata": {
    "collapsed": true
   },
   "outputs": [],
   "source": [
    "# gradient descent function for softmax cost/logistic regression \n",
    "def gradient_descent(x,y,w,alpha,K):\n",
    "    # container for weight history\n",
    "    whist = []\n",
    "    \n",
    "    # grad descent loop\n",
    "    for j in range(K):\n",
    "        # update container\n",
    "        whist.append(w)\n",
    "        \n",
    "        # compute gradient\n",
    "        grad = compute_gradient(x,y,w)\n",
    "        w = w - alpha*grad;\n",
    "\n",
    "    return whist"
   ]
  },
  {
   "cell_type": "code",
   "execution_count": 25,
   "metadata": {
    "collapsed": false
   },
   "outputs": [],
   "source": [
    "# set inputs to grad descent\n",
    "alpha = 10**-4\n",
    "K = 10\n",
    "w = np.random.randn(np.shape(x)[1] + 1,1);        # random initial point\n",
    "\n",
    "# run gradient descent\n",
    "whist = gradient_descent(x,y,w,alpha,K)"
   ]
  },
  {
   "cell_type": "markdown",
   "metadata": {},
   "source": [
    "# stochastic gradient descent functionality"
   ]
  },
  {
   "cell_type": "code",
   "execution_count": 26,
   "metadata": {
    "collapsed": true
   },
   "outputs": [],
   "source": [
    "def compute_cost_val(x,y,w):\n",
    "    P = len(y)\n",
    "    cost = 0\n",
    "    for p in range(P):\n",
    "        x_p = list(x[p])\n",
    "        x_p.insert(0,1)\n",
    "        x_p = np.array(x_p)\n",
    "        x_p.shape = (len(x_p),1)\n",
    "        y_p = y[p]\n",
    "        cost += np.log(1 + np.exp(-y_p*np.dot(x_p.T,w)))\n",
    "    return cost[0]"
   ]
  },
  {
   "cell_type": "code",
   "execution_count": 27,
   "metadata": {
    "collapsed": true
   },
   "outputs": [],
   "source": [
    "# function for computing the logistic regression mini cost gradient\n",
    "def compute_mini_gradient(x,y,w,p):\n",
    "    # get pth point\n",
    "    x_p = list(x[p])\n",
    "    x_p.insert(0,1)\n",
    "    x_p = np.array(x_p)\n",
    "    x_p.shape = (len(x_p),1)\n",
    "    y_p = y[p]\n",
    "    \n",
    "    # compute minigrad and return\n",
    "    mini_grad = -1/(1 + np.exp(y_p*np.dot(x_p.T,w)))*y_p*x_p\n",
    "    mini_grad.shape = (len(mini_grad),1)\n",
    "    return mini_grad"
   ]
  },
  {
   "cell_type": "code",
   "execution_count": 28,
   "metadata": {
    "collapsed": true
   },
   "outputs": [],
   "source": [
    "# gradient descent function for softmax cost/logistic regression \n",
    "def stochastic_gradient_descent(x,y,w,alpha,K):\n",
    "    # container for weight history\n",
    "    whist = []\n",
    "    P = len(y)\n",
    "    \n",
    "    # grad descent loop\n",
    "    for j in range(K):\n",
    "        # update container\n",
    "        whist.append(w)\n",
    "        \n",
    "        # loop over mini-gradients (one per point)\n",
    "        for p in range(P):\n",
    "            mini_grad = compute_mini_gradient(x,y,w,p)\n",
    "            w = w - alpha*mini_grad;\n",
    "    return whist"
   ]
  },
  {
   "cell_type": "code",
   "execution_count": 29,
   "metadata": {
    "collapsed": false
   },
   "outputs": [],
   "source": [
    "# run stochastic gradient descent\n",
    "stochastic_whist = stochastic_gradient_descent(x,y,w,alpha,K)"
   ]
  },
  {
   "cell_type": "code",
   "execution_count": 30,
   "metadata": {
    "collapsed": false
   },
   "outputs": [
    {
     "data": {
      "image/png": "[encoded data removed]",
      "text/plain": [
       "<matplotlib.figure.Figure at 0x10a1dcf10>"
      ]
     },
     "metadata": {},
     "output_type": "display_data"
    }
   ],
   "source": [
    "# print out the cost history\n",
    "stochastic_ghist = []\n",
    "ghist = []\n",
    "for k in range(K):\n",
    "    # compute cost at kth step of gradient descent\n",
    "    w_k = whist[k]\n",
    "    g_k = compute_cost_val(x,y,w_k)\n",
    "    ghist.append(g_k)\n",
    "    \n",
    "    # compute cost at kth step of stochastic gradient descent\n",
    "    w_k = stochastic_whist[k]\n",
    "    g_k = compute_cost_val(x,y,w_k)\n",
    "    stochastic_ghist.append(g_k)   \n",
    "    \n",
    "# plot the result\n",
    "plt.plot(ghist)\n",
    "plt.plot(stochastic_ghist)\n",
    "plt.legend(['grad descent','stochastic descent'],loc='center left', bbox_to_anchor=(1, 0.5))\n",
    "\n",
    "plt.show()"
   ]
  },
  {
   "cell_type": "code",
   "execution_count": null,
   "metadata": {
    "collapsed": true
   },
   "outputs": [],
   "source": []
  }
 ],
 "metadata": {
  "anaconda-cloud": {},
  "kernelspec": {
   "display_name": "Python [conda root]",
   "language": "python",
   "name": "conda-root-py"
  },
  "language_info": {
   "codemirror_mode": {
    "name": "ipython",
    "version": 2
   },
   "file_extension": ".py",
   "mimetype": "text/x-python",
   "name": "python",
   "nbconvert_exporter": "python",
   "pygments_lexer": "ipython2",
   "version": "2.7.12"
  }
 },
 "nbformat": 4,
 "nbformat_minor": 1
}
