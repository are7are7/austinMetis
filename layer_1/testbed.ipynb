{
 "cells": [
  {
   "cell_type": "code",
   "execution_count": 3,
   "metadata": {
    "collapsed": true
   },
   "outputs": [],
   "source": [
    "### in this cell we import necessary libraries for the demo\n",
    "import numpy as np                                        # a fundamental numerical linear algebra library\n",
    "import matplotlib.pyplot as plt                           # a basic plotting library\n",
    "from sklearn.preprocessing import PolynomialFeatures      # a function for transforming data via a polynomial of given degree\n",
    "from sklearn import linear_model                          # the scikit-learn linear regression module\n",
    "from sklearn.ensemble import GradientBoostingRegressor    # a scikit-learn tree regression module\n",
    "from sklearn.neural_network import MLPRegressor           # a scikit-learn neural network regresion module\n",
    "import pandas as pd\n",
    "\n",
    "# this line is required in order to plot in a jupyter notebook itself\n",
    "%matplotlib inline  "
   ]
  },
  {
   "cell_type": "code",
   "execution_count": 12,
   "metadata": {
    "collapsed": false
   },
   "outputs": [],
   "source": [
    "# generate true function\n",
    "true_x = np.linspace(0,1,200)\n",
    "true_y = true_x*np.abs(np.sin(2*np.pi*true_x))\n",
    "\n",
    "# generate data from true function\n",
    "num_pts = 30\n",
    "data_x = np.random.rand(num_pts)\n",
    "data_y = data_x*np.abs(np.sin(2*np.pi*data_x))\n",
    "noise = 0.05*np.random.randn(num_pts)\n",
    "data_y+=noise"
   ]
  },
  {
   "cell_type": "code",
   "execution_count": 13,
   "metadata": {
    "collapsed": true
   },
   "outputs": [],
   "source": [
    "# save underlying function and data - first reshape \n",
    "true_x = np.asarray(true_x)\n",
    "true_x.shape = (len(true_x),1)\n",
    "\n",
    "true_y = np.asarray(true_y)\n",
    "true_y.shape = (len(true_y),1)\n",
    "\n",
    "data_x = np.asarray(data_x)\n",
    "data_x.shape = (len(data_x),1)\n",
    "\n",
    "data_y = np.asarray(data_y)\n",
    "data_y.shape = (len(data_y),1)\n",
    "\n",
    "true_func = np.concatenate((true_x,true_y),axis = 1)\n",
    "all_data = np.concatenate((data_x,data_y),axis = 1)\n",
    "\n",
    "# convert to dataframe and save as csv\n",
    "true_func = pd.DataFrame(true_func,index = None)\n",
    "true_func.to_csv('true_func.csv',index = None, header = False)"
   ]
  },
  {
   "cell_type": "code",
   "execution_count": 14,
   "metadata": {
    "collapsed": false
   },
   "outputs": [],
   "source": [
    "# convert to dataframe and save as csv\n",
    "all_data = pd.DataFrame(all_data,index = None)\n",
    "all_data.to_csv('example_data.csv',index = None, header = False)"
   ]
  },
  {
   "cell_type": "code",
   "execution_count": null,
   "metadata": {
    "collapsed": true
   },
   "outputs": [],
   "source": [
    "import regression_layer_1_utils as utils"
   ]
  },
  {
   "cell_type": "code",
   "execution_count": 20,
   "metadata": {
    "collapsed": true
   },
   "outputs": [],
   "source": [
    "def make_circle_classification_dataset(num_pts):\n",
    "    '''\n",
    "    This function generates a random circle dataset with two classes. \n",
    "    You can run this a couple times to get a distribution you like visually.  \n",
    "    You can also adjust the num_pts parameter to change the total number of points in the dataset.\n",
    "    '''\n",
    "\n",
    "    # generate points\n",
    "    num_pts = 80                     # total number of points\n",
    "    num_misclass = 5                 # total number of misclassified points\n",
    "    x = np.random.rand(num_pts,1)\n",
    "    y = np.random.rand(num_pts,1)\n",
    "    \n",
    "    # assign labels based on curve\n",
    "    s = np.linspace(0,1,100)\n",
    "    t = np.linspace(0,1,100)\n",
    "    poly_boundary = s**2 - t**2 + s - t\n",
    "\n",
    "    # make labels and flip a few to show some misclassifications\n",
    "    labels = radi.copy()    \n",
    "    \n",
    "    flip = np.random.permutation(num_pts)\n",
    "    flip = flip[:num_misclass]\n",
    "    for i in flip:\n",
    "        labels[i]=1/float(labels[i] + 0.001)\n",
    "        \n",
    "    pos_inds = np.argwhere(labels < 1)\n",
    "    pos_inds = [s[0] for s in pos_inds]\n",
    "\n",
    "    neg_inds = np.argwhere(labels >=1)\n",
    "    neg_inds = [s[0] for s in neg_inds]\n",
    "\n",
    "    labels[pos_inds] = +1\n",
    "    labels[neg_inds] = -1\n",
    "\n",
    "    # save dataset as csv\n",
    "    x = np.asarray(x)\n",
    "    x.shape = (len(x),1)\n",
    "    y.shape = (len(y),1)\n",
    "    labels = np.asarray(labels)\n",
    "    labels.shape = (len(labels),1)\n",
    "    dataset = np.concatenate( (x,y),axis = 1)\n",
    "    all_data = np.concatenate((dataset,labels),axis = 1)\n",
    "    all_data = pd.DataFrame(all_data)\n",
    "    all_data.columns = ['x-coordinate','y-coordinate','label']\n",
    "    all_data.to_csv('circle_data.csv',index = False)\n",
    "    \n",
    "    # save true separator\n",
    "    s = np.linspace(0,1,200)\n",
    "    x_f = np.cos(2*np.pi*s)\n",
    "    x_f.shape = (len(x_f),1)\n",
    "    y_f = np.sin(2*np.pi*s)\n",
    "    y_f.shape = (len(y_f),1)\n",
    "    all_func = np.concatenate((x_f,y_f),axis = 1)\n",
    "    all_func = pd.DataFrame(all_func)\n",
    "    all_func.to_csv('circle_func.csv',index = False)\n",
    "    \n",
    "    # return datapoints and labels for further \n",
    "    return x,y,labels,x_f,y_f"
   ]
  },
  {
   "cell_type": "code",
   "execution_count": 21,
   "metadata": {
    "collapsed": false
   },
   "outputs": [],
   "source": [
    "all_data = make_circle_classification_dataset(num_pts = 80)"
   ]
  },
  {
   "cell_type": "code",
   "execution_count": 16,
   "metadata": {
    "collapsed": true
   },
   "outputs": [],
   "source": [
    "def make_curvy_classification_dataset(num_pts):\n",
    "    '''\n",
    "    This function generates a random circle dataset with two classes. \n",
    "    You can run this a couple times to get a distribution you like visually.  \n",
    "    You can also adjust the num_pts parameter to change the total number of points in the dataset.\n",
    "    '''\n",
    "\n",
    "    # generate points\n",
    "    num_misclass = 4                 # total number of misclassified points\n",
    "    x = np.random.rand(num_pts)\n",
    "    y = np.random.rand(num_pts)\n",
    "    \n",
    "    # make labels and flip a few to show some misclassifications\n",
    "    labels = np.ones((num_pts,1))\n",
    "    tester = 0.3*(x**2 - np.cos(2*np.pi*x)) + 0.5\n",
    "    ind = np.argwhere(y < tester)\n",
    "    ind = [s[0] for s in ind]\n",
    "    labels[ind] = -1\n",
    "\n",
    "    flip = np.random.permutation(num_pts)\n",
    "    flip = flip[:num_misclass]\n",
    "    for i in flip:\n",
    "        labels[i]*=(-1)\n",
    "\n",
    "    # save dataset as csv\n",
    "    x = np.asarray(x)\n",
    "    x.shape = (len(x),1)\n",
    "    y.shape = (len(y),1)\n",
    "    labels = np.asarray(labels)\n",
    "    labels.shape = (len(labels),1)\n",
    "    dataset = np.concatenate( (x,y),axis = 1)\n",
    "    all_data = np.concatenate((dataset,labels),axis = 1)\n",
    "    all_data = pd.DataFrame(all_data)\n",
    "    all_data.columns = ['x-coordinate','y-coordinate','label']\n",
    "    all_data.to_csv('datasets/poly_data.csv',index = False)\n",
    "    \n",
    "    # save true separator\n",
    "    x_f = np.linspace(0,1,200)\n",
    "    x_f.shape = (len(x_f),1)\n",
    "    y_f = 0.3*(x_f**2 - np.cos(2*np.pi*x_f)) + 0.5\n",
    "    y_f.shape = (len(y_f),1)\n",
    "    all_func = np.concatenate((x_f,y_f),axis = 1)\n",
    "    all_func = pd.DataFrame(all_func)\n",
    "    all_func.to_csv('datasets/poly_func.csv',index = False)\n",
    "    \n",
    "    # return datapoints and labels for further \n",
    "    return x,y,labels,x_f,y_f"
   ]
  },
  {
   "cell_type": "code",
   "execution_count": 17,
   "metadata": {
    "collapsed": false
   },
   "outputs": [],
   "source": [
    "data_x,data_y,labels,sep_x,sep_y = make_curvy_classification_dataset(num_pts = 200)"
   ]
  },
  {
   "cell_type": "code",
   "execution_count": 18,
   "metadata": {
    "collapsed": false
   },
   "outputs": [
    {
     "data": {
      "image/png": "[encoded data removed]",
      "text/plain": [
       "<matplotlib.figure.Figure at 0x1165a4990>"
      ]
     },
     "metadata": {},
     "output_type": "display_data"
    }
   ],
   "source": [
    "### in this cell we import necessary libraries for the demo\n",
    "import numpy as np                  # a fundamental numerical linear algebra library\n",
    "import matplotlib.pyplot as plt     # a basic plotting library\n",
    "import pandas as pd                 # a basic data handling library\n",
    "import sys\n",
    "sys.path.append('utils')\n",
    "\n",
    "\n",
    "# this line is required in order to plot in a jupyter notebook itself\n",
    "%matplotlib inline         \n",
    "\n",
    "# load in the data and true function\n",
    "data = np.asarray(pd.read_csv('datasets/poly_data.csv'))\n",
    "data_x = data[:,0]\n",
    "data_y = data[:,1]\n",
    "labels = data[:,2]\n",
    "\n",
    "func = np.asarray(pd.read_csv('datasets/poly_func.csv'))\n",
    "true_x = func[:,0]\n",
    "true_y = func[:,1]\n",
    "\n",
    "# plot the data and true underlying data-generating function\n",
    "import classification_layer_1_utils as utils  # a set of simple plotting utilities for this notebook\n",
    "utils.cust_plt_util(data_x,data_y,labels,true_x,true_y)"
   ]
  },
  {
   "cell_type": "code",
   "execution_count": 15,
   "metadata": {
    "collapsed": false
   },
   "outputs": [
    {
     "name": "stdout",
     "output_type": "stream",
     "text": [
      "(80,)\n"
     ]
    }
   ],
   "source": [
    "print np.shape(data_x)"
   ]
  },
  {
   "cell_type": "code",
   "execution_count": null,
   "metadata": {
    "collapsed": true
   },
   "outputs": [],
   "source": []
  }
 ],
 "metadata": {
  "anaconda-cloud": {},
  "kernelspec": {
   "display_name": "Python [conda root]",
   "language": "python",
   "name": "conda-root-py"
  },
  "language_info": {
   "codemirror_mode": {
    "name": "ipython",
    "version": 2
   },
   "file_extension": ".py",
   "mimetype": "text/x-python",
   "name": "python",
   "nbconvert_exporter": "python",
   "pygments_lexer": "ipython2",
   "version": "2.7.12"
  }
 },
 "nbformat": 4,
 "nbformat_minor": 1
}
